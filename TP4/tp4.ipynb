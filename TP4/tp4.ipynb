{
 "cells": [
  {
   "cell_type": "markdown",
   "metadata": {},
   "source": [
    "# Trabalho 4\n",
    "\n",
    "Grupo 22<br>\n",
    "João Carlos Marques<br>\n",
    "A84684"
   ]
  },
  {
   "cell_type": "code",
   "execution_count": 1,
   "metadata": {},
   "outputs": [
    {
     "name": "stdout",
     "output_type": "stream",
     "text": [
      "Requirement already satisfied: z3-solver in c:\\users\\johny\\anaconda3\\lib\\site-packages (4.8.13.0)\n"
     ]
    }
   ],
   "source": [
    "!pip install z3-solver\n",
    "from z3 import *"
   ]
  },
  {
   "cell_type": "markdown",
   "metadata": {},
   "source": [
    "Considere o seguinte programa, em Python anotado, para multiplicação de dois inteiros de precisão limitada a 16 bits.  \n",
    "\n",
    "\n",
    "           assume m >= 0 and n >= 0 and r == 0 and x == m and y == n \n",
    "        0: while y > 0:\n",
    "        1:    if y & 1 == 1: \n",
    "                    y , r  = y-1 , r+x\n",
    "        2:    x , y = x<<1  ,  y>>1\n",
    "        3: assert r == m * n\n",
    "\n",
    "\n",
    "1. Prove por indução a terminação deste programa\n",
    "\n",
    "\n"
   ]
  },
  {
   "cell_type": "markdown",
   "metadata": {},
   "source": [
    "Assumindo uma variável program counter tal que quando o programa termina temos, $pc=3$, então temos de provar um propriedade de animação do tipo $F(G \\phi)$ onde $\\phi = (pc = 3)$\n",
    "\n",
    "Definindo o variante do programa como: \n",
    "$$ V(s) = y$$\n",
    "\n",
    "Usaremos então indução por $k$ - induction para provar que o programa termina, isto é que a variável pc consegue tomar o valor 3\n",
    "\n",
    "Para tal ocorrer, teremos de verificar as seguintes propriedades do nosso variante:\n",
    "\n",
    "- Não Negativo:\n",
    "$$G(V(s)\\ge 0)$$\n",
    "\n",
    "\n",
    "- Decrescente:\n",
    "$$G(\\forall s'.trans(s,s') \\implies (V(s')<V(s) \\lor V(s')=0))$$\n",
    "\n",
    "\n",
    "\n",
    "- Útil:\n",
    "$$G(V(s)=0 \\implies \\phi(s))$$"
   ]
  },
  {
   "cell_type": "markdown",
   "metadata": {},
   "source": [
    "## Implementação $k$ - induction"
   ]
  },
  {
   "cell_type": "code",
   "execution_count": 2,
   "metadata": {},
   "outputs": [],
   "source": [
    "def kinduction_always(declare,init,trans,inv,k,p):\n",
    "    s = Solver() \n",
    "    state = {}\n",
    "    for i in range(k): \n",
    "        state[i] = declare(i) \n",
    "    s.add(init(state[0]))\n",
    "    for i in range(k-1): \n",
    "        s.add(trans(state[i],state[i+1]))\n",
    "    s.add(Or([Not(inv(state[i])) for i in range(k)]))\n",
    "    status = s.check()\n",
    "    \n",
    "    assert (status!=unknown)\n",
    "    if (status==sat):\n",
    "        print('Nao é verdade nos estados iniciais')\n",
    "        m = s.model()\n",
    "        print(i)\n",
    "        for v in state[i]:\n",
    "            print(v,'=',m[state[i][v]])\n",
    "        return \n",
    "    \n",
    "    s = Solver() \n",
    "    state = {}\n",
    "    for i in range(k+1): \n",
    "        state[i] = declare(i)\n",
    "    for i in range(k): \n",
    "        s.add(inv(state[i]))\n",
    "        s.add(trans(state[i],state[i+1]))\n",
    "    s.add(Not(inv(state[k])))\n",
    "    status = s.check()\n",
    "    \n",
    "    assert (status!=unknown)\n",
    "    if (status==sat):\n",
    "        print('Nao é verdade nos estados iniciais')\n",
    "        m = s.model()\n",
    "        print(i)\n",
    "        for v in state[i]:\n",
    "            print(v,'=',m[state[i][v]])\n",
    "        return \n",
    "    print(\"A propriedade \" + p + \" é valida\")"
   ]
  },
  {
   "cell_type": "markdown",
   "metadata": {},
   "source": [
    "Derivando facilmente o estado inicial:\n",
    "\n",
    "$pc = 0 \\land m\\ge 0 \\land n \\ge 0 \\land r = 0 \\land x=m \\land y=n$\n",
    "\n",
    "Podemos então definir as transições desta maneira:\n",
    "\n",
    "$pc = 0 \\land pc'=1 \\land y > 0 \\land x'=x \\land y'=y \\land n'=n \\land m'=m \\land r'=r$\n",
    "\n",
    "$\\lor$\n",
    "\n",
    "$pc = 0 \\land pc'=3 \\land y \\le 0 \\land x' = x \\land y'=y \\land n'=n \\land m'=m \\land r'=r$\n",
    "\n",
    "$\\lor$ \n",
    "\n",
    "$pc = 1 \\land  pc' = 2 \\land y \\& 1 = 1 \\land x'= x \\land y'=y -1 \\land  n'=n \\land m'=m \\land r' = r+x $\n",
    "\n",
    "$\\lor$\n",
    "\n",
    "$pc=1 \\land pc' = 2 \\land y \\& 1 \\ne 1 \\land x'=x \\land y'=y \\land n'=n \\land m'=m \\land r'=r$\n",
    "\n",
    "$\\lor$\n",
    "\n",
    "$pc = 2 \\land pc'=0 \\land x'=x<<1 \\land y'=y>>1 \\land n'=n \\land m'=m \\land r'=r$\n",
    "\n",
    "$\\lor$\n",
    "\n",
    "$pc = 3 \\land pc' = 3 \\land x'=x \\land y'=y \\land m'=m \\land n'=n \\land r'=r$\n",
    "\n"
   ]
  },
  {
   "cell_type": "code",
   "execution_count": 3,
   "metadata": {},
   "outputs": [],
   "source": [
    "def declare(i):\n",
    "    state = {}\n",
    "    state[\"pc\"]= BitVec('pc'+str(i), 16)\n",
    "    state[\"x\"] = BitVec('x'+str(i), 16)\n",
    "    state[\"y\"] = BitVec('y'+str(i), 16)\n",
    "    state[\"m\"] = BitVec('m'+str(i), 16)\n",
    "    state[\"n\"] = BitVec('n'+str(i), 16)\n",
    "    state[\"r\"] = BitVec(\"r\"+str(i), 16)\n",
    "\n",
    "    return state\n",
    "\n",
    "def init(state):\n",
    "    return And(state[\"pc\"]==0, state[\"m\"]>=0, state[\"n\"]>=0, state[\"r\"]==0, state[\"x\"]==state[\"m\"], state[\"y\"]==state[\"n\"])\n",
    "\n",
    "def trans(s,p):\n",
    "    pc0_pc1 = And(s[\"pc\"]==0, p[\"pc\"]==1, s[\"y\"]>0, p[\"x\"]==s[\"x\"], p[\"y\"]==s[\"y\"], p[\"n\"]==s[\"n\"], p[\"m\"]==s[\"m\"], p[\"r\"]==s[\"r\"])\n",
    "    pc0_pc3 = And(s[\"pc\"]==0, p[\"pc\"]==3, s[\"y\"]<=0, p[\"x\"]==s[\"x\"], p[\"y\"]==s[\"y\"], p[\"n\"]==s[\"n\"],p[\"m\"]==s[\"m\"], p[\"r\"]==s[\"r\"])\n",
    "    pc1_pc2_1 = And(s[\"pc\"]==1, p[\"pc\"]==2, s[\"y\"] & 1 == 1, p[\"x\"]==s[\"x\"], p[\"y\"]==s[\"y\"]-1, p[\"n\"]==s[\"n\"], p[\"m\"]==s[\"m\"], p[\"r\"]==s[\"r\"]+s[\"x\"])\n",
    "    pc1_pc2_2 = And(s[\"pc\"]==1, p[\"pc\"]==2, Not(s[\"y\"] & 1 == 1), p[\"x\"]==s[\"x\"], p[\"y\"]==s[\"y\"], p[\"n\"]==s[\"n\"], p[\"m\"]==s[\"m\"], p[\"r\"]==s[\"r\"])\n",
    "    pc2_pc0 = And(s[\"pc\"]==2, p[\"pc\"]==0, p[\"x\"]==s[\"x\"]<<1, p[\"y\"]==s[\"y\"]>>1, p[\"n\"]==s[\"n\"], p[\"m\"]==s[\"m\"], p[\"r\"]==s[\"r\"])\n",
    "    pc3_pc3 = And(s[\"pc\"]==3, p[\"pc\"]==3, p[\"x\"]==s[\"x\"], p[\"y\"]==s[\"y\"], p[\"n\"]==s[\"n\"], p[\"m\"]==s[\"m\"], p[\"r\"]==s[\"r\"])\n",
    "\n",
    "    return Or(pc0_pc1,pc0_pc3,pc1_pc2_1,pc1_pc2_2,pc2_pc0,pc3_pc3)"
   ]
  },
  {
   "cell_type": "code",
   "execution_count": 4,
   "metadata": {},
   "outputs": [],
   "source": [
    "def naoNegativo(state):\n",
    "    return (state['y']>=0)\n",
    "\n",
    "def decrescente(state):\n",
    "    prox = declare(-1)\n",
    "    zero = prox['y'] + 3 - state['pc'] == 0\n",
    "    menor = prox['y']  < state['y'] \n",
    "    return (Implies(trans(state,prox), Or(zero,menor)))\n",
    "    \n",
    "def utilidade(state):\n",
    "    return (Implies(state['y'] + 3 - state['pc'] == 0, state['pc']==3))"
   ]
  },
  {
   "cell_type": "code",
   "execution_count": 5,
   "metadata": {},
   "outputs": [
    {
     "name": "stdout",
     "output_type": "stream",
     "text": [
      "A propriedade \"não negativo\" é valida\n",
      "Nao é verdade nos estados iniciais\n",
      "5\n",
      "pc = 2\n",
      "x = 15674\n",
      "y = 0\n",
      "m = 7837\n",
      "n = 2\n",
      "r = 15674\n",
      "A propriedade \"útil\" é valida\n"
     ]
    }
   ],
   "source": [
    "kinduction_always(declare, init, trans, naoNegativo, 1, \"\\\"não negativo\\\"\")\n",
    "\n",
    "kinduction_always(declare, init, trans, decrescente, 7, \"\\\"decrescente\\\"\")\n",
    "\n",
    "kinduction_always(declare, init, trans, utilidade, 3, \"\\\"útil\\\"\")"
   ]
  },
  {
   "cell_type": "markdown",
   "metadata": {},
   "source": [
    "2. Pretende-se verificar a correção total deste  programa usando a metodologia dos invariantes e a metodologia do “single assignment unfolding”. Para isso, \n",
    "    1. Codifique usando a LPA (linguagem de programas anotadas) a forma recursiva deste programa. \n",
    "    2. Proponha o invariante mais fraco que assegure a correção, codifique-o em SMT e prove a correção.\n",
    "    3. Construa a definição iterativa do “single assignment unfolding”  usando um parâmetro limite $$\\,N\\,$$  e aumentando a pré-condição com a condição \n",
    "                                            $$(n < N)\\,\\land\\,(m<N)$$\n",
    "        O número de iterações vai ser controlado por este parâmetro $$N$$"
   ]
  },
  {
   "cell_type": "markdown",
   "metadata": {},
   "source": [
    "## LPA"
   ]
  },
  {
   "cell_type": "markdown",
   "metadata": {},
   "source": [
    "$ \\phi \\equiv \\;m\\ge 0\\;\\wedge \\;n\\ge 0\\;\\wedge \\;x=m\\;\\wedge \\;y=n\\;\\wedge \\;r=0$\n",
    "\n",
    "$\\psi \\equiv \\;r=m\\cdot n$\n",
    "\n",
    "$b \\equiv y > 0$\n",
    "\n",
    "$c \\equiv y \\& 1 = 1$\n",
    "\n",
    "$S \\equiv (assume\\;c; S1 || assume \\neg c; S2)$\n",
    "\n",
    "$W \\equiv \\{assume$ $b; S;W\\} || \\{assume\\neg b\\}$\n",
    "\n",
    "$H \\equiv assume\\;\\phi; W ; assert\\;\\psi $\n",
    "\n",
    "$inv \\equiv y\\ge 0 \\land x*y+r = m* n$\n",
    "\n",
    "$H^\\ast = \\{I;H^\\ast\\}||\\{T\\}$\n",
    "\n",
    "$I \\equiv assume\\;b \\land inv; S; assert\\;inv$\n",
    "\n",
    "$[I] \\equiv ((y > 0) \\land (y\\ge 0 \\land x*y+r=m*n) \\to (c\\to inv[x/x\\gg1][y/(y-1)\\ll1][r/r+x]) \\land (\\neg c \\to inv[x/x\\gg1][y/\\ll1])) $\n",
    "\n",
    "$\\equiv (y > 0 \\land x*y+r=m*n) \\to (c\\to inv[x/x\\gg1][y/(y-1)\\ll1][r/r+x]) \\land (\\neg c \\to inv[x/x\\gg1][y/\\ll1]))$\n",
    "\n",
    "$T \\equiv assume\\neg b \\land inv \\to \\psi$\n",
    "\n",
    "$[T] \\equiv ((y\\le0) \\land (y\\ge0 \\land x*y+r=m*n)) \\to r=m*n$\n",
    "\n",
    "$\\equiv (y=0 \\land x*y+r=m*n) \\to r=m*n$"
   ]
  },
  {
   "cell_type": "markdown",
   "metadata": {},
   "source": [
    "## Correção"
   ]
  },
  {
   "cell_type": "code",
   "execution_count": 6,
   "metadata": {},
   "outputs": [],
   "source": [
    "def correcao(bits):\n",
    "    x,y,m,n,r = BitVecs(\"x y m n r\", bits)\n",
    "\n",
    "    b = y>0\n",
    "    inv = And(y>=0, x*y+r==m*n)\n",
    "    c = y&1==1\n",
    "    S1 = Implies(c, substitute(substitute(substitute(inv, (x, x<<1)), (y, (y-1)>>1)), (r,r+x)))\n",
    "    S2 = Implies(Not(c), substitute(substitute(inv, (x,x<<1)), (y,y>>1)))\n",
    "    pos = r == m*n\n",
    "\n",
    "    I = Implies(And(b,inv), And(S1,S2))\n",
    "    T = Implies(And(Not(b), inv), pos)\n",
    "\n",
    "    prove(And(I,T))"
   ]
  },
  {
   "cell_type": "code",
   "execution_count": 7,
   "metadata": {},
   "outputs": [
    {
     "name": "stdout",
     "output_type": "stream",
     "text": [
      "proved\n"
     ]
    }
   ],
   "source": [
    "correcao(8)"
   ]
  },
  {
   "cell_type": "markdown",
   "metadata": {},
   "source": [
    "## Correção Havoc"
   ]
  },
  {
   "cell_type": "markdown",
   "metadata": {},
   "source": [
    "$P \\equiv assume\\;\\phi; assert\\;inv; havoc\\;\\vec{x};((assume b \\land inv; S; assert\\;inv; assume False)||assume\\; \\neg b \\land inv$ \n",
    "\n",
    "$[S;assert \\;inv] \\equiv (c\\to inv[x/x\\gg1][y/(y-1)\\ll1][r/r+x]) \\land (\\neg c \\to inv[x/x\\gg1][y/\\ll1])$\n",
    "\n",
    "$[P] \\equiv \\phi \\to inv \\land \\forall \\vec{x}.((b\\land inv \\to [S;assert\\; inv])\\land (\\neg b \\land inv \\to \\psi))$"
   ]
  },
  {
   "cell_type": "code",
   "execution_count": 8,
   "metadata": {},
   "outputs": [],
   "source": [
    "def correHavoc(bits):\n",
    "    x,y,m,n,r = BitVecs(\"x y m n r\", bits)\n",
    "\n",
    "    pre = And(m>=0, n>=0, r==0, x==m, y==n)\n",
    "    b = y>0\n",
    "    inv = And(y>=0, x*y+r==m*n)\n",
    "    c = y&1==1\n",
    "    S1 = Implies(c, substitute(substitute(substitute(inv, (x, x<<1)), (y, (y-1)>>1)), (r,r+x)))\n",
    "    S2 = Implies(Not(c), substitute(substitute(inv, (x,x<<1)), (y,y>>1)))\n",
    "    pos = r == m*n\n",
    "    havoc=ForAll([x,y,r], Implies(And(b,inv),And(S1,S2)))\n",
    "    fim = Implies(And(Not(b),inv),pos)\n",
    "\n",
    "    prove(Implies(pre, And(inv,havoc,fim)))"
   ]
  },
  {
   "cell_type": "code",
   "execution_count": 9,
   "metadata": {},
   "outputs": [
    {
     "name": "stdout",
     "output_type": "stream",
     "text": [
      "proved\n"
     ]
    }
   ],
   "source": [
    "correHavoc(8)"
   ]
  },
  {
   "cell_type": "markdown",
   "metadata": {},
   "source": [
    "# SAU"
   ]
  },
  {
   "cell_type": "markdown",
   "metadata": {},
   "source": [
    "Queremos então descobrir um parâmetro $N$ tal que este corresponda ao valor máximo de iterações que o nosso ciclo pode executar antes de terminar. Ora como podemos observar a cada execução do ciclo a variável $y$ será dividida por $2$, sendo assim sabemos que o programa termina assim que y tomar um valor inferior a 1, então temos:\n",
    "\n",
    "$$ y\\div 2^N < 1 $$\n",
    "\n",
    "logo\n",
    "\n",
    "$$ y < 2^N $$\n",
    "\n",
    "O maior valor que y pode tomar será $2^{n-1}$, onde n corresponde ao numero de bits da variável, sendo este um programa que faz a multiplicação de dois inteiros de precisão limitada a 16 bits então o maior valor que y pode tomar será $2^{16-1}$ logo $ 2^{16-1} < 2^N$. Como a cada execução do ciclo teremos 3 estados do programa então o numero de transições deste será $3n-2$ "
   ]
  },
  {
   "cell_type": "code",
   "execution_count": 22,
   "metadata": {},
   "outputs": [],
   "source": [
    "def newinit(state,N):\n",
    "    return (And(And(state['pc']==0,state['m']>=0, state['n']>=0, state['x']==state['m'], state['y']==state['n'],state['r']==0), And(state['n']<N, state['m']<N)))\n",
    "\n",
    "def pos(state):\n",
    "    return (state['r']==state['m']*state['n'])\n",
    "\n",
    "def b(state):\n",
    "    return (state['y']>0)\n",
    "\n",
    "def unfold(declare,bits,N):\n",
    "    s = Solver() \n",
    "    state = {}\n",
    "    for i in range(bits): \n",
    "        state[i] = declare(i) \n",
    "    s.add(newinit(state[0],N))\n",
    "\n",
    "\n",
    "    \n",
    "    if s.check() == unsat:\n",
    "        print(\"O programa está incorreto.\")\n",
    "        m = s.model()\n",
    "        \n",
    "        for v in state[0]:\n",
    "            print(v, \"=\", m[state[0][v]])\n",
    "    else:\n",
    "        print(\"O programa está correto.\")"
   ]
  },
  {
   "cell_type": "code",
   "execution_count": 23,
   "metadata": {},
   "outputs": [
    {
     "name": "stdout",
     "output_type": "stream",
     "text": [
      "O programa está correto.\n"
     ]
    }
   ],
   "source": [
    "unfold(declare,16,16)"
   ]
  },
  {
   "cell_type": "code",
   "execution_count": null,
   "metadata": {},
   "outputs": [],
   "source": []
  }
 ],
 "metadata": {
  "interpreter": {
   "hash": "5c1863610df8831bbe662ad2819e84dc067b53a1025905e846614c3b775b21f5"
  },
  "kernelspec": {
   "display_name": "Python 3.8.12 64-bit ('base': conda)",
   "language": "python",
   "name": "python3"
  },
  "language_info": {
   "codemirror_mode": {
    "name": "ipython",
    "version": 3
   },
   "file_extension": ".py",
   "mimetype": "text/x-python",
   "name": "python",
   "nbconvert_exporter": "python",
   "pygments_lexer": "ipython3",
   "version": "3.8.12"
  },
  "orig_nbformat": 4
 },
 "nbformat": 4,
 "nbformat_minor": 2
}
